{
 "cells": [
  {
   "cell_type": "markdown",
   "metadata": {},
   "source": [
    "# Рекомендация тарифов"
   ]
  },
  {
   "cell_type": "markdown",
   "metadata": {},
   "source": [
    "Исходные данные - датасет с праметрами использования объемов опций тарифного плана (количество звонков, время разговора, количество использованных SMS и объемов интернет-траффика) клиентов телекоммуникационной компании.\n",
    "Необходимо построить модель для задачи классификации, которая выберет подходящий тариф. Предобработка данных не требуется.\n",
    "Модель должна обладать максимально возможным значением *accuracy* (при этом не менее 0.75).\n",
    "*Accuracy* должно быть проверено на тестовой выборке."
   ]
  },
  {
   "cell_type": "code",
   "execution_count": 1,
   "metadata": {},
   "outputs": [],
   "source": [
    "import pandas as pd \n",
    "import warnings\n",
    "\n",
    "from sklearn.dummy import DummyClassifier\n",
    "from sklearn.ensemble import RandomForestClassifier\n",
    "from sklearn.linear_model import LogisticRegression\n",
    "from sklearn.metrics import accuracy_score\n",
    "from sklearn.metrics import mean_squared_error\n",
    "from sklearn.model_selection import train_test_split\n",
    "from sklearn.tree import DecisionTreeClassifier \n",
    "\n",
    "from sklearn.model_selection import GridSearchCV"
   ]
  },
  {
   "cell_type": "code",
   "execution_count": 2,
   "metadata": {},
   "outputs": [],
   "source": [
    "warnings.simplefilter('ignore')#отключение предупреждений"
   ]
  },
  {
   "cell_type": "markdown",
   "metadata": {},
   "source": [
    "## Изучение предоставленных данных"
   ]
  },
  {
   "cell_type": "markdown",
   "metadata": {},
   "source": [
    "Для изучения предоставленных данных прочитаем его, получим первые 10 строк таблицы, изучим общую информацию о таблице, получим данные о количестве пропусков, полных дубликатов. Выведем описательные статистики значений, содержащихся в файле, списки и количество уникальных значений столбцов."
   ]
  },
  {
   "cell_type": "code",
   "execution_count": 3,
   "metadata": {},
   "outputs": [],
   "source": [
    "df = pd.read_csv(r'C:\\Users\\lebeda\\Yandex_Practicum\\Yandex_projects\\data_sets\\prjkt_6(sp9)\\users_behavior.csv') #чтение предоставленного файла с данными"
   ]
  },
  {
   "cell_type": "code",
   "execution_count": 4,
   "metadata": {},
   "outputs": [
    {
     "data": {
      "text/html": [
       "<div>\n",
       "<style scoped>\n",
       "    .dataframe tbody tr th:only-of-type {\n",
       "        vertical-align: middle;\n",
       "    }\n",
       "\n",
       "    .dataframe tbody tr th {\n",
       "        vertical-align: top;\n",
       "    }\n",
       "\n",
       "    .dataframe thead th {\n",
       "        text-align: right;\n",
       "    }\n",
       "</style>\n",
       "<table border=\"1\" class=\"dataframe\">\n",
       "  <thead>\n",
       "    <tr style=\"text-align: right;\">\n",
       "      <th></th>\n",
       "      <th>calls</th>\n",
       "      <th>minutes</th>\n",
       "      <th>messages</th>\n",
       "      <th>mb_used</th>\n",
       "      <th>is_ultra</th>\n",
       "    </tr>\n",
       "  </thead>\n",
       "  <tbody>\n",
       "    <tr>\n",
       "      <td>0</td>\n",
       "      <td>40.0</td>\n",
       "      <td>311.90</td>\n",
       "      <td>83.0</td>\n",
       "      <td>19915.42</td>\n",
       "      <td>0</td>\n",
       "    </tr>\n",
       "    <tr>\n",
       "      <td>1</td>\n",
       "      <td>85.0</td>\n",
       "      <td>516.75</td>\n",
       "      <td>56.0</td>\n",
       "      <td>22696.96</td>\n",
       "      <td>0</td>\n",
       "    </tr>\n",
       "    <tr>\n",
       "      <td>2</td>\n",
       "      <td>77.0</td>\n",
       "      <td>467.66</td>\n",
       "      <td>86.0</td>\n",
       "      <td>21060.45</td>\n",
       "      <td>0</td>\n",
       "    </tr>\n",
       "    <tr>\n",
       "      <td>3</td>\n",
       "      <td>106.0</td>\n",
       "      <td>745.53</td>\n",
       "      <td>81.0</td>\n",
       "      <td>8437.39</td>\n",
       "      <td>1</td>\n",
       "    </tr>\n",
       "    <tr>\n",
       "      <td>4</td>\n",
       "      <td>66.0</td>\n",
       "      <td>418.74</td>\n",
       "      <td>1.0</td>\n",
       "      <td>14502.75</td>\n",
       "      <td>0</td>\n",
       "    </tr>\n",
       "  </tbody>\n",
       "</table>\n",
       "</div>"
      ],
      "text/plain": [
       "   calls  minutes  messages   mb_used  is_ultra\n",
       "0   40.0   311.90      83.0  19915.42         0\n",
       "1   85.0   516.75      56.0  22696.96         0\n",
       "2   77.0   467.66      86.0  21060.45         0\n",
       "3  106.0   745.53      81.0   8437.39         1\n",
       "4   66.0   418.74       1.0  14502.75         0"
      ]
     },
     "execution_count": 4,
     "metadata": {},
     "output_type": "execute_result"
    }
   ],
   "source": [
    "df.head() #вывод первых десяти строк таблицы"
   ]
  },
  {
   "cell_type": "code",
   "execution_count": 5,
   "metadata": {},
   "outputs": [
    {
     "name": "stdout",
     "output_type": "stream",
     "text": [
      "<class 'pandas.core.frame.DataFrame'>\n",
      "RangeIndex: 3214 entries, 0 to 3213\n",
      "Data columns (total 5 columns):\n",
      "calls       3214 non-null float64\n",
      "minutes     3214 non-null float64\n",
      "messages    3214 non-null float64\n",
      "mb_used     3214 non-null float64\n",
      "is_ultra    3214 non-null int64\n",
      "dtypes: float64(4), int64(1)\n",
      "memory usage: 125.7 KB\n"
     ]
    }
   ],
   "source": [
    "df.info() #получение информации о таблице"
   ]
  },
  {
   "cell_type": "code",
   "execution_count": 6,
   "metadata": {},
   "outputs": [
    {
     "data": {
      "text/plain": [
       "calls       0\n",
       "minutes     0\n",
       "messages    0\n",
       "mb_used     0\n",
       "is_ultra    0\n",
       "dtype: int64"
      ]
     },
     "execution_count": 6,
     "metadata": {},
     "output_type": "execute_result"
    }
   ],
   "source": [
    "df.isna().sum() #получение данных о пропущенных значениях"
   ]
  },
  {
   "cell_type": "code",
   "execution_count": 7,
   "metadata": {},
   "outputs": [
    {
     "data": {
      "text/plain": [
       "0"
      ]
     },
     "execution_count": 7,
     "metadata": {},
     "output_type": "execute_result"
    }
   ],
   "source": [
    "df.duplicated().sum() #получение данных о полных дубликатах по строкам."
   ]
  },
  {
   "cell_type": "code",
   "execution_count": 8,
   "metadata": {},
   "outputs": [
    {
     "data": {
      "text/html": [
       "<div>\n",
       "<style scoped>\n",
       "    .dataframe tbody tr th:only-of-type {\n",
       "        vertical-align: middle;\n",
       "    }\n",
       "\n",
       "    .dataframe tbody tr th {\n",
       "        vertical-align: top;\n",
       "    }\n",
       "\n",
       "    .dataframe thead th {\n",
       "        text-align: right;\n",
       "    }\n",
       "</style>\n",
       "<table border=\"1\" class=\"dataframe\">\n",
       "  <thead>\n",
       "    <tr style=\"text-align: right;\">\n",
       "      <th></th>\n",
       "      <th>calls</th>\n",
       "      <th>minutes</th>\n",
       "      <th>messages</th>\n",
       "      <th>mb_used</th>\n",
       "      <th>is_ultra</th>\n",
       "    </tr>\n",
       "  </thead>\n",
       "  <tbody>\n",
       "    <tr>\n",
       "      <td>count</td>\n",
       "      <td>3214.000000</td>\n",
       "      <td>3214.000000</td>\n",
       "      <td>3214.000000</td>\n",
       "      <td>3214.000000</td>\n",
       "      <td>3214.000000</td>\n",
       "    </tr>\n",
       "    <tr>\n",
       "      <td>mean</td>\n",
       "      <td>63.038892</td>\n",
       "      <td>438.208787</td>\n",
       "      <td>38.281269</td>\n",
       "      <td>17207.673836</td>\n",
       "      <td>0.306472</td>\n",
       "    </tr>\n",
       "    <tr>\n",
       "      <td>std</td>\n",
       "      <td>33.236368</td>\n",
       "      <td>234.569872</td>\n",
       "      <td>36.148326</td>\n",
       "      <td>7570.968246</td>\n",
       "      <td>0.461100</td>\n",
       "    </tr>\n",
       "    <tr>\n",
       "      <td>min</td>\n",
       "      <td>0.000000</td>\n",
       "      <td>0.000000</td>\n",
       "      <td>0.000000</td>\n",
       "      <td>0.000000</td>\n",
       "      <td>0.000000</td>\n",
       "    </tr>\n",
       "    <tr>\n",
       "      <td>25%</td>\n",
       "      <td>40.000000</td>\n",
       "      <td>274.575000</td>\n",
       "      <td>9.000000</td>\n",
       "      <td>12491.902500</td>\n",
       "      <td>0.000000</td>\n",
       "    </tr>\n",
       "    <tr>\n",
       "      <td>50%</td>\n",
       "      <td>62.000000</td>\n",
       "      <td>430.600000</td>\n",
       "      <td>30.000000</td>\n",
       "      <td>16943.235000</td>\n",
       "      <td>0.000000</td>\n",
       "    </tr>\n",
       "    <tr>\n",
       "      <td>75%</td>\n",
       "      <td>82.000000</td>\n",
       "      <td>571.927500</td>\n",
       "      <td>57.000000</td>\n",
       "      <td>21424.700000</td>\n",
       "      <td>1.000000</td>\n",
       "    </tr>\n",
       "    <tr>\n",
       "      <td>max</td>\n",
       "      <td>244.000000</td>\n",
       "      <td>1632.060000</td>\n",
       "      <td>224.000000</td>\n",
       "      <td>49745.730000</td>\n",
       "      <td>1.000000</td>\n",
       "    </tr>\n",
       "  </tbody>\n",
       "</table>\n",
       "</div>"
      ],
      "text/plain": [
       "             calls      minutes     messages       mb_used     is_ultra\n",
       "count  3214.000000  3214.000000  3214.000000   3214.000000  3214.000000\n",
       "mean     63.038892   438.208787    38.281269  17207.673836     0.306472\n",
       "std      33.236368   234.569872    36.148326   7570.968246     0.461100\n",
       "min       0.000000     0.000000     0.000000      0.000000     0.000000\n",
       "25%      40.000000   274.575000     9.000000  12491.902500     0.000000\n",
       "50%      62.000000   430.600000    30.000000  16943.235000     0.000000\n",
       "75%      82.000000   571.927500    57.000000  21424.700000     1.000000\n",
       "max     244.000000  1632.060000   224.000000  49745.730000     1.000000"
      ]
     },
     "execution_count": 8,
     "metadata": {},
     "output_type": "execute_result"
    }
   ],
   "source": [
    "df.describe(include='all') #получение данных описательных статистик"
   ]
  },
  {
   "cell_type": "code",
   "execution_count": 9,
   "metadata": {},
   "outputs": [
    {
     "data": {
      "text/plain": [
       "985"
      ]
     },
     "execution_count": 9,
     "metadata": {},
     "output_type": "execute_result"
    }
   ],
   "source": [
    "df.query('is_ultra == 1')['is_ultra'].count() #количество записей для тарифа 'ultra'"
   ]
  },
  {
   "cell_type": "code",
   "execution_count": 10,
   "metadata": {},
   "outputs": [
    {
     "data": {
      "text/plain": [
       "2229"
      ]
     },
     "execution_count": 10,
     "metadata": {},
     "output_type": "execute_result"
    }
   ],
   "source": [
    "df.query('is_ultra == 0')['is_ultra'].count() #количество записей для тарифа 'smart'"
   ]
  },
  {
   "cell_type": "markdown",
   "metadata": {},
   "source": [
    "Согласно предложенному описанию данных каждый объект в наборе данных — это информация о поведении одного пользователя за месяц. \n",
    "\n",
    "Перечень столбцов таблицы включает:\n",
    "\n",
    "   - сalls — количество звонков;\n",
    "   - minutes — суммарная длительность звонков в минутах;\n",
    "   - messages — количество sms-сообщений;\n",
    "   - mb_used — израсходованный интернет-трафик в Мб;\n",
    "   - is_ultra — каким тарифом пользовался в течение месяца («Ультра» — 1, «Смарт» — 0)."
   ]
  },
  {
   "cell_type": "markdown",
   "metadata": {},
   "source": [
    "**Вывод**\n",
    "\n",
    "Таблица включает 3214 строк и 5 столбцов с информацией о объемах оказанных услуг (количество звонков и их длительность, количество отправленных сообщений и израсходованном интернет-траффике, а также информацию об используемом пользователем тарифе). Тип данных во всех столбцах, за исключеним типа тарфа - вещественные числа (float), для идентификации тарифа использованы категоризованные данные целочисленного типа (int): \"1\" - тариф 'ultra', \"0\" - тариф 'smart'. Большая часть данных описывает тариф 'smart' (2229 строк), меньшая - тариф 'ultra'(985 строк). Пропуски и дубликаты отсутсвуют."
   ]
  },
  {
   "cell_type": "markdown",
   "metadata": {},
   "source": [
    "## Разделение данных на тренировочную, тестовую и валидационную выборки."
   ]
  },
  {
   "cell_type": "markdown",
   "metadata": {},
   "source": [
    "Для получения выборок, используемых для обучения, тестирования и валидации моделей из предложенного набора создадим обучающую, тестовую и валидационную выборки в соотношении 60%-20%-20%, соответственно. Для этого дважды применим метод train_test_split библиотеки sklearn. За первый \"проход\" поделим таблицу на обучающую выборку (60%) и объединенную выборку для валидации и тестировния (40%). За второй \"проход\" поделим объединенную выборку пополам на собственно валидационную и выборку для тестирования (по 20% от исходной таблицы). Для равномерного выделения данных по признаку класса (принадлежность к тарифу) используем параметр stratify для которого в качестве значений укажем столбец принадлежности к тарифу ультра 'is_ultra'."
   ]
  },
  {
   "cell_type": "code",
   "execution_count": 11,
   "metadata": {},
   "outputs": [],
   "source": [
    "df_train, df_test_valid = train_test_split(df, test_size=0.4, random_state=12345, stratify=df['is_ultra'])\n",
    "# получение обучающей выборки и объекдиненной выборки для тестирования и валидации результатов"
   ]
  },
  {
   "cell_type": "code",
   "execution_count": 12,
   "metadata": {},
   "outputs": [],
   "source": [
    "df_valid, df_test = train_test_split(df_test_valid, test_size=0.5, random_state=12345, stratify=df_test_valid['is_ultra'])\n",
    "# получение отдельных выборок для тестирования и валидации"
   ]
  },
  {
   "cell_type": "code",
   "execution_count": 13,
   "metadata": {},
   "outputs": [
    {
     "name": "stdout",
     "output_type": "stream",
     "text": [
      "<class 'pandas.core.frame.DataFrame'>\n",
      "Int64Index: 1928 entries, 2294 to 2134\n",
      "Data columns (total 5 columns):\n",
      "calls       1928 non-null float64\n",
      "minutes     1928 non-null float64\n",
      "messages    1928 non-null float64\n",
      "mb_used     1928 non-null float64\n",
      "is_ultra    1928 non-null int64\n",
      "dtypes: float64(4), int64(1)\n",
      "memory usage: 90.4 KB\n"
     ]
    }
   ],
   "source": [
    "df_train.info()"
   ]
  },
  {
   "cell_type": "code",
   "execution_count": 14,
   "metadata": {},
   "outputs": [
    {
     "name": "stdout",
     "output_type": "stream",
     "text": [
      "<class 'pandas.core.frame.DataFrame'>\n",
      "Int64Index: 643 entries, 78 to 2434\n",
      "Data columns (total 5 columns):\n",
      "calls       643 non-null float64\n",
      "minutes     643 non-null float64\n",
      "messages    643 non-null float64\n",
      "mb_used     643 non-null float64\n",
      "is_ultra    643 non-null int64\n",
      "dtypes: float64(4), int64(1)\n",
      "memory usage: 30.1 KB\n"
     ]
    }
   ],
   "source": [
    "df_valid.info()"
   ]
  },
  {
   "cell_type": "code",
   "execution_count": 15,
   "metadata": {},
   "outputs": [
    {
     "name": "stdout",
     "output_type": "stream",
     "text": [
      "<class 'pandas.core.frame.DataFrame'>\n",
      "Int64Index: 643 entries, 3113 to 691\n",
      "Data columns (total 5 columns):\n",
      "calls       643 non-null float64\n",
      "minutes     643 non-null float64\n",
      "messages    643 non-null float64\n",
      "mb_used     643 non-null float64\n",
      "is_ultra    643 non-null int64\n",
      "dtypes: float64(4), int64(1)\n",
      "memory usage: 30.1 KB\n"
     ]
    }
   ],
   "source": [
    "df_test.info()"
   ]
  },
  {
   "cell_type": "markdown",
   "metadata": {},
   "source": [
    "**Вывод**\n",
    "\n",
    "Для обучения модели и валидации результатов из исходной таблицы методом  train_test_split библиотеки sklearn получены три выборки: обучающая, тестовая и валидационная в соотношении 3/1/1."
   ]
  },
  {
   "cell_type": "markdown",
   "metadata": {},
   "source": [
    "## Исследование моделей классификации"
   ]
  },
  {
   "cell_type": "markdown",
   "metadata": {},
   "source": [
    "Проведем исследование трех обучающих моделей задачи классификации: \"решающее дерево\", \"случайный лес\", логистическая регрессия. Получим для каждой из них оценку качества и выберем лучшую. Для \"решающего дерева\" и  \"случайного леса\" оценку качества будем производить с изменением гиперпараметров (глубины и колличества оценщиков соответсвенно), определив их значения при лучшей оценке качества."
   ]
  },
  {
   "cell_type": "markdown",
   "metadata": {},
   "source": [
    "### Определение признаков и целевых признаков созданных выборок для обучения и валидации моделей"
   ]
  },
  {
   "cell_type": "code",
   "execution_count": 16,
   "metadata": {},
   "outputs": [],
   "source": [
    "features_train = df_train.drop(['is_ultra'], axis=1) #определение признаков обучающей выборки\n",
    "target_train = df_train['is_ultra'] #определение целевых признаков обучающей выборки\n",
    "\n",
    "features_valid = df_valid.drop(['is_ultra'], axis=1) #определение признаков валидационной выборки\n",
    "target_valid = df_valid['is_ultra'] #определение целевых признаков валидационной выборки\n",
    "\n",
    "features_test = df_test.drop(['is_ultra'], axis=1) #определение признаков тестовой выборки\n",
    "target_test = df_test['is_ultra'] #определение целевых признаков тестовой выборки"
   ]
  },
  {
   "cell_type": "markdown",
   "metadata": {},
   "source": [
    "###  Исследование модели решающего дерева"
   ]
  },
  {
   "cell_type": "code",
   "execution_count": 17,
   "metadata": {},
   "outputs": [],
   "source": [
    "# grid_params = {'max_depth': range(1,100,1)} #подбор гиперпараметров по сетке\n",
    "\n",
    "# grid = GridSearchCV(DecisionTreeClassifier(random_state=12345),param_grid=grid_params,cv=3,scoring='accuracy')\n",
    "# model_grid = grid.fit(features_valid, target_valid)\n",
    "# print('max_model_score: '+str(model_grid.best_score_), str(model_grid.best_params_))"
   ]
  },
  {
   "cell_type": "code",
   "execution_count": 18,
   "metadata": {},
   "outputs": [
    {
     "name": "stdout",
     "output_type": "stream",
     "text": [
      "max_accuracy: 0.80248833592535 for depth: 8\n"
     ]
    }
   ],
   "source": [
    "max_accuracy = 0\n",
    "best_depth = 0\n",
    "for depth in range(1, 100):\n",
    "    model_1 = DecisionTreeClassifier(random_state=12345, max_depth=depth) # создание моднли решающего дерева с заданной глубиной дерева\n",
    "    model_1.fit(features_train, target_train) # обучение модели\n",
    "    predictions_valid = model_1.predict(features_valid) # предсказание на валидационной выборке \n",
    "    result = accuracy_score(target_valid, predictions_valid) # получение оценки качества модели\n",
    "    if result > max_accuracy:\n",
    "        max_accuracy = result\n",
    "        best_depth = depth\n",
    "        best_model_1 = model_1\n",
    "        \n",
    "print('max_accuracy:', max_accuracy, 'for depth:', best_depth)"
   ]
  },
  {
   "cell_type": "markdown",
   "metadata": {},
   "source": [
    "###  Исследование модели случайного леса"
   ]
  },
  {
   "cell_type": "code",
   "execution_count": 19,
   "metadata": {},
   "outputs": [],
   "source": [
    "# grid_params = {'max_depth': range(1,50,5),     #подбор гиперпараметров по сетке\n",
    "#                'n_estimators': range(1,100,5)}\n",
    "\n",
    "# grid = GridSearchCV(RandomForestClassifier(random_state=12345),param_grid=grid_params,cv=3,scoring='accuracy')\n",
    "# model_grid = grid.fit(features_valid, target_valid)\n",
    "# print('max_model_score: '+str(model_grid.best_score_), str(model_grid.best_params_))"
   ]
  },
  {
   "cell_type": "code",
   "execution_count": 20,
   "metadata": {
    "scrolled": true
   },
   "outputs": [
    {
     "name": "stdout",
     "output_type": "stream",
     "text": [
      "max_model_score: 0.8227060653188181 for n_estimators: 39 and depth: 9\n"
     ]
    }
   ],
   "source": [
    "max_model_score = 0 \n",
    "best_n_estimators = 0\n",
    "best_depth = 0\n",
    "for est in range(1, 100):\n",
    "    for depth in range(1, 50):\n",
    "        model_2 = RandomForestClassifier(random_state=12345, n_estimators=est, max_depth=depth) # создание моднли решающего дерева с заданной глубиной дерева\n",
    "        model_2.fit(features_train, target_train) # обучение модели\n",
    "        predictions_valid = model_2.predict(features_valid)\n",
    "        result = model_2.score(features_valid, target_valid) # получение оценки качества модели\n",
    "        if result > max_model_score:\n",
    "            max_model_score = result\n",
    "            best_n_estimators = est\n",
    "            best_depth = depth\n",
    "            best_model_2 = model_2\n",
    "            \n",
    "print('max_model_score:', max_model_score, 'for n_estimators:', best_n_estimators, 'and depth:', best_depth)"
   ]
  },
  {
   "cell_type": "markdown",
   "metadata": {},
   "source": [
    "###  Исследование модели логистической регрессии"
   ]
  },
  {
   "cell_type": "code",
   "execution_count": 21,
   "metadata": {},
   "outputs": [
    {
     "name": "stdout",
     "output_type": "stream",
     "text": [
      "model_score: 0.71850699844479\n"
     ]
    }
   ],
   "source": [
    "model_3 = LogisticRegression(random_state=12345)\n",
    "model_3.fit(features_train, target_train)\n",
    "result = model_3.score(features_valid, target_valid) \n",
    "\n",
    "print('model_score:', result)"
   ]
  },
  {
   "cell_type": "markdown",
   "metadata": {},
   "source": [
    "### Вывод\n",
    "\n",
    "Как видно из полученных данных самой высокой оценкой качества обладает модель \"случайного леса\" при количестве деревьев 39 с глубиной 9, далее по убыванию \"решающее дерево\" с глубиной 8 и логистическая регрессия. Следует также отметить, что время работы (обучения) у модели \"случайного леса\" с 58 деревьями самое большое. Скорость обучения модели \"решающего дерева\" глубиной 8 выше, при этом оценка качества достаточна близка к оценке качества \"случайного леса\". Самой простой и быстрой, но наименее точной оказалась логистическая регрессия."
   ]
  },
  {
   "cell_type": "markdown",
   "metadata": {},
   "source": [
    "## Проверка моделей на тестовой выборке"
   ]
  },
  {
   "cell_type": "markdown",
   "metadata": {},
   "source": [
    "Проверим качество полученных моделей с оптимальными значениями гиперпараметров на тестовой выборке."
   ]
  },
  {
   "cell_type": "markdown",
   "metadata": {},
   "source": [
    "###  Проверка модели решающего дерева"
   ]
  },
  {
   "cell_type": "code",
   "execution_count": 22,
   "metadata": {},
   "outputs": [
    {
     "data": {
      "text/plain": [
       "0.7838258164852255"
      ]
     },
     "execution_count": 22,
     "metadata": {},
     "output_type": "execute_result"
    }
   ],
   "source": [
    "predictions_test_1 = best_model_1.predict(features_test) # проверка модели решающего дерева с глубиной 3\n",
    "result_test_1 = accuracy_score(target_test, predictions_test_1)\n",
    "result_test_1"
   ]
  },
  {
   "cell_type": "markdown",
   "metadata": {},
   "source": [
    "###  Проверка модели случайного леса"
   ]
  },
  {
   "cell_type": "code",
   "execution_count": 23,
   "metadata": {},
   "outputs": [
    {
     "data": {
      "text/plain": [
       "0.8118195956454122"
      ]
     },
     "execution_count": 23,
     "metadata": {},
     "output_type": "execute_result"
    }
   ],
   "source": [
    "###  Проверка модели решающего дерева# проверка модели случайного леса с колличеством деревьв 23\n",
    "result_test_2 = best_model_2.score(features_test, target_test) \n",
    "result_test_2"
   ]
  },
  {
   "cell_type": "markdown",
   "metadata": {},
   "source": [
    "###  Проверка модели логистической регрессии"
   ]
  },
  {
   "cell_type": "code",
   "execution_count": 24,
   "metadata": {},
   "outputs": [
    {
     "data": {
      "text/plain": [
       "0.7107309486780715"
      ]
     },
     "execution_count": 24,
     "metadata": {},
     "output_type": "execute_result"
    }
   ],
   "source": [
    "# проверка модели логистической регрессии\n",
    "result_test_3 = model_3.score(features_test, target_test)\n",
    "result_test_3"
   ]
  },
  {
   "cell_type": "markdown",
   "metadata": {},
   "source": [
    "### Вывод\n",
    "\n",
    "Результат проверки моделей с оптимальными гиперпараметрами на тестовой выборке аналогичен результату работы на валидационной. Самым высоким качеством такжже обладает модель \"случайного леса\", далее по убыванию - \"решающее дерево\" и логистическая регрессия."
   ]
  },
  {
   "cell_type": "markdown",
   "metadata": {},
   "source": [
    "## Проверка моделей на адекватность"
   ]
  },
  {
   "cell_type": "markdown",
   "metadata": {},
   "source": [
    "Для проверки моделей на адекватность будем использовать фиктивный классификатор данных DummyClassifier, обученный на тренировочной выборке. В качестве стратегии классификатора будем использовать стратегии 'most_frequent', 'prior', 'stratified', 'uniform'. Скорее всего для исследуемых данных самой эффиктивной стратегией фиктивного классификатора окажется 'most_frequent', старающуюся предсказать самый часто встречаюющийся тип класса в данных, а в исследуемых данных есть перекос по классам в одну сторону. Сравним оценку работы модели фиктивного классификатора (с учетом различных стратегий) с обученными моделями. Если оценка предсказаний фиктивного классиикатора ниже, чем оценка обученных моделей, можно считать, что обученные модели адекватны и работают лучше."
   ]
  },
  {
   "cell_type": "markdown",
   "metadata": {},
   "source": [
    "### Сравнение качества моделей с качеством модели фиктивного классификатора"
   ]
  },
  {
   "cell_type": "code",
   "execution_count": 25,
   "metadata": {},
   "outputs": [
    {
     "name": "stdout",
     "output_type": "stream",
     "text": [
      "dummy_accyracy: 0.6936236391912908 , strategy: most_frequent\n",
      "The 1st model is adequate\n",
      "The 2st model is adequate\n",
      "The 3st model is adequate\n",
      "\n",
      "dummy_accyracy: 0.6936236391912908 , strategy: prior\n",
      "The 1st model is adequate\n",
      "The 2st model is adequate\n",
      "The 3st model is adequate\n",
      "\n",
      "dummy_accyracy: 0.5800933125972006 , strategy: stratified\n",
      "The 1st model is adequate\n",
      "The 2st model is adequate\n",
      "The 3st model is adequate\n",
      "\n",
      "dummy_accyracy: 0.48833592534992226 , strategy: uniform\n",
      "The 1st model is adequate\n",
      "The 2st model is adequate\n",
      "The 3st model is adequate\n",
      "\n"
     ]
    }
   ],
   "source": [
    "strategy = ['most_frequent', 'prior', 'stratified', 'uniform']\n",
    "for s in strategy:\n",
    "    dummy_clf = DummyClassifier(strategy = s)\n",
    "    dummy_clf.fit(features_train, target_train)\n",
    "    predictions_dummy = dummy_clf.predict(features_test)\n",
    "    result_dummy = accuracy_score(target_test, predictions_dummy)\n",
    "    print ('dummy_accyracy:', result_dummy, ',',  'strategy:', s)\n",
    "    if result_dummy < result_test_1:\n",
    "        print('The 1st model is adequate')\n",
    "    else:\n",
    "        print('The 1st model is not adequate')\n",
    "    if result_dummy < result_test_2:\n",
    "        print('The 2st model is adequate')\n",
    "    else:\n",
    "        print('The 2st model is not adequate')\n",
    "    if result_dummy < result_test_3:\n",
    "        print('The 3st model is adequate')\n",
    "    else:\n",
    "        print('The 3st model is not adequate')\n",
    "    print()"
   ]
  },
  {
   "cell_type": "markdown",
   "metadata": {},
   "source": [
    "### Вывод\n",
    "\n",
    "Как видно из полученных данных, все исследуемые и обученные модели достаточно адекватны, оценка качества их работы выше, чем оценка качества работы фиктивного классификатора при любой из выбранных стратегий."
   ]
  },
  {
   "cell_type": "markdown",
   "metadata": {},
   "source": [
    "## Общий вывод"
   ]
  },
  {
   "cell_type": "markdown",
   "metadata": {},
   "source": [
    "База исследований - файл формата .csv, содержащий информацию о объемах оказанных услуг мобильной связи: количество звонков и их длительность, количество отправленных сообщений и израсходованном интернет-траффике, а также информацию об используемом пользователем тарифе. \n",
    "\n",
    "Цель наити наиболее качественную модель обучения для задачи классификации с  максимально большим значением *accuracy*, которая выберет подходящий тариф.\n",
    "\n",
    "В ходе работы ислледуемая таблица была поделена на выборки: тренировочную, валидационную и тестовую в соотношении 3/1/1. В качестве исследуемых моделей были выбраны: \"решаюшее дерево\", \"случайный лес\" и логистическая регрессия.\n",
    "\n",
    "Были найдены наиболее оптимальные значения гиперпараметров модели для получения наибольших оценок качества (на интервале итерациий от 1 до 100): для \"решающего дерева\" - глубина 8, для \"случайного леса\" - 39 деревьев с глубиной 9. Наилучшим качетвом обладает модель \"случайного леса\", далее по убыванию - \"решающее дерево\" и логистическая регрессия.\n",
    "\n",
    "Эффективность и качество работы моделей были проверены на тестовой выборке.\n",
    "\n",
    "Была проверена и доказана адекватность моделей в сравнении с качеством работы фиктивного классификатора данных DummyClassifier с использованием разных его стратегий."
   ]
  },
  {
   "cell_type": "code",
   "execution_count": null,
   "metadata": {},
   "outputs": [],
   "source": []
  }
 ],
 "metadata": {
  "ExecuteTimeLog": [
   {
    "duration": 315,
    "start_time": "2022-02-12T17:52:08.211Z"
   },
   {
    "duration": 607,
    "start_time": "2022-02-12T17:52:27.537Z"
   },
   {
    "duration": 36,
    "start_time": "2022-02-12T17:52:28.806Z"
   },
   {
    "duration": 24,
    "start_time": "2022-02-12T17:52:52.515Z"
   },
   {
    "duration": 22,
    "start_time": "2022-02-12T17:53:04.939Z"
   },
   {
    "duration": 24,
    "start_time": "2022-02-12T17:53:35.096Z"
   },
   {
    "duration": 17,
    "start_time": "2022-02-12T18:18:17.716Z"
   },
   {
    "duration": 10,
    "start_time": "2022-02-12T18:19:05.160Z"
   },
   {
    "duration": 7,
    "start_time": "2022-02-12T18:20:34.562Z"
   },
   {
    "duration": 6,
    "start_time": "2022-02-12T18:21:00.314Z"
   },
   {
    "duration": 293,
    "start_time": "2022-02-12T18:21:18.404Z"
   },
   {
    "duration": 6,
    "start_time": "2022-02-12T18:21:23.691Z"
   },
   {
    "duration": 6,
    "start_time": "2022-02-12T18:21:44.830Z"
   },
   {
    "duration": 272,
    "start_time": "2022-02-12T18:22:42.519Z"
   },
   {
    "duration": 7,
    "start_time": "2022-02-12T18:22:54.747Z"
   },
   {
    "duration": 7,
    "start_time": "2022-02-12T18:23:16.093Z"
   },
   {
    "duration": 30,
    "start_time": "2022-02-12T18:23:57.553Z"
   },
   {
    "duration": 10,
    "start_time": "2022-02-12T18:25:46.204Z"
   },
   {
    "duration": 13,
    "start_time": "2022-02-12T18:26:41.315Z"
   },
   {
    "duration": 15,
    "start_time": "2022-02-12T18:27:13.074Z"
   },
   {
    "duration": 14,
    "start_time": "2022-02-12T19:18:23.084Z"
   },
   {
    "duration": 8,
    "start_time": "2022-02-12T19:29:55.353Z"
   },
   {
    "duration": 99,
    "start_time": "2022-02-12T19:30:09.158Z"
   },
   {
    "duration": 9,
    "start_time": "2022-02-12T19:30:12.406Z"
   },
   {
    "duration": 9,
    "start_time": "2022-02-12T19:30:16.343Z"
   },
   {
    "duration": 82,
    "start_time": "2022-02-12T19:31:41.080Z"
   },
   {
    "duration": 7,
    "start_time": "2022-02-12T19:31:59.945Z"
   },
   {
    "duration": 7,
    "start_time": "2022-02-12T19:32:09.450Z"
   },
   {
    "duration": 6,
    "start_time": "2022-02-12T19:32:50.422Z"
   },
   {
    "duration": 255,
    "start_time": "2022-02-12T20:17:57.597Z"
   },
   {
    "duration": 668,
    "start_time": "2022-02-12T20:18:12.686Z"
   },
   {
    "duration": 19,
    "start_time": "2022-02-12T20:18:13.356Z"
   },
   {
    "duration": 23,
    "start_time": "2022-02-12T20:18:13.377Z"
   },
   {
    "duration": 31,
    "start_time": "2022-02-12T20:18:13.402Z"
   },
   {
    "duration": 12,
    "start_time": "2022-02-12T20:18:13.435Z"
   },
   {
    "duration": 35,
    "start_time": "2022-02-12T20:18:13.448Z"
   },
   {
    "duration": 45,
    "start_time": "2022-02-12T20:18:13.485Z"
   },
   {
    "duration": 20,
    "start_time": "2022-02-12T20:18:13.533Z"
   },
   {
    "duration": 12,
    "start_time": "2022-02-12T20:18:13.555Z"
   },
   {
    "duration": 17,
    "start_time": "2022-02-12T20:18:13.570Z"
   },
   {
    "duration": 18,
    "start_time": "2022-02-12T20:18:13.589Z"
   },
   {
    "duration": 5,
    "start_time": "2022-02-12T20:19:03.477Z"
   },
   {
    "duration": 366,
    "start_time": "2022-02-12T20:19:22.781Z"
   },
   {
    "duration": 6,
    "start_time": "2022-02-12T20:19:33.270Z"
   },
   {
    "duration": 7,
    "start_time": "2022-02-12T20:19:50.973Z"
   },
   {
    "duration": 5,
    "start_time": "2022-02-12T20:20:17.199Z"
   },
   {
    "duration": 5,
    "start_time": "2022-02-12T20:20:17.583Z"
   },
   {
    "duration": 7,
    "start_time": "2022-02-12T20:20:18.027Z"
   },
   {
    "duration": 7,
    "start_time": "2022-02-12T20:20:19.455Z"
   },
   {
    "duration": 6,
    "start_time": "2022-02-12T20:20:34.883Z"
   },
   {
    "duration": 5,
    "start_time": "2022-02-12T20:32:07.716Z"
   },
   {
    "duration": 5,
    "start_time": "2022-02-12T20:32:14.615Z"
   },
   {
    "duration": 28,
    "start_time": "2022-02-12T21:14:05.159Z"
   },
   {
    "duration": 54,
    "start_time": "2022-02-12T21:14:29.496Z"
   },
   {
    "duration": 941,
    "start_time": "2022-02-12T21:14:36.440Z"
   },
   {
    "duration": 1457,
    "start_time": "2022-02-12T21:14:50.688Z"
   },
   {
    "duration": 842,
    "start_time": "2022-02-12T21:15:17.217Z"
   },
   {
    "duration": 55,
    "start_time": "2022-02-12T21:15:31.646Z"
   },
   {
    "duration": 150,
    "start_time": "2022-02-12T21:15:36.186Z"
   },
   {
    "duration": 282,
    "start_time": "2022-02-12T21:15:40.452Z"
   },
   {
    "duration": 33,
    "start_time": "2022-02-12T21:27:33.376Z"
   },
   {
    "duration": 33,
    "start_time": "2022-02-12T21:28:12.671Z"
   },
   {
    "duration": 61,
    "start_time": "2022-02-12T21:28:17.857Z"
   },
   {
    "duration": 481,
    "start_time": "2022-02-12T21:28:39.139Z"
   },
   {
    "duration": 61,
    "start_time": "2022-02-12T21:29:04.565Z"
   },
   {
    "duration": 66,
    "start_time": "2022-02-12T21:35:27.912Z"
   },
   {
    "duration": 65,
    "start_time": "2022-02-12T21:35:44.071Z"
   },
   {
    "duration": 65,
    "start_time": "2022-02-12T21:35:59.766Z"
   },
   {
    "duration": 63,
    "start_time": "2022-02-12T21:36:09.389Z"
   },
   {
    "duration": 33,
    "start_time": "2022-02-12T21:36:27.697Z"
   },
   {
    "duration": 61,
    "start_time": "2022-02-12T21:36:44.263Z"
   },
   {
    "duration": 7,
    "start_time": "2022-02-12T21:37:14.354Z"
   },
   {
    "duration": 63,
    "start_time": "2022-02-12T21:37:26.893Z"
   },
   {
    "duration": 65,
    "start_time": "2022-02-12T21:37:45.219Z"
   },
   {
    "duration": 7,
    "start_time": "2022-02-12T21:38:47.642Z"
   },
   {
    "duration": 60,
    "start_time": "2022-02-12T21:40:14.410Z"
   },
   {
    "duration": 61,
    "start_time": "2022-02-12T21:44:39.729Z"
   },
   {
    "duration": 8,
    "start_time": "2022-02-12T21:45:06.174Z"
   },
   {
    "duration": 63,
    "start_time": "2022-02-12T21:45:07.087Z"
   },
   {
    "duration": 85,
    "start_time": "2022-02-12T21:54:02.771Z"
   },
   {
    "duration": 245,
    "start_time": "2022-02-12T21:54:26.255Z"
   },
   {
    "duration": 5105,
    "start_time": "2022-02-12T21:56:18.573Z"
   },
   {
    "duration": 5078,
    "start_time": "2022-02-12T21:57:24.346Z"
   },
   {
    "duration": 9965,
    "start_time": "2022-02-12T21:57:40.551Z"
   },
   {
    "duration": 973,
    "start_time": "2022-02-12T21:58:13.822Z"
   },
   {
    "duration": 19671,
    "start_time": "2022-02-12T21:58:28.895Z"
   },
   {
    "duration": 20093,
    "start_time": "2022-02-12T22:00:22.937Z"
   },
   {
    "duration": 16,
    "start_time": "2022-02-12T22:03:42.885Z"
   },
   {
    "duration": 923,
    "start_time": "2022-02-12T22:27:42.168Z"
   },
   {
    "duration": 14,
    "start_time": "2022-02-12T22:28:09.430Z"
   },
   {
    "duration": 6,
    "start_time": "2022-02-12T22:28:13.527Z"
   },
   {
    "duration": 889,
    "start_time": "2022-02-12T22:28:14.016Z"
   },
   {
    "duration": 17937,
    "start_time": "2022-02-12T22:28:14.907Z"
   },
   {
    "duration": 14,
    "start_time": "2022-02-12T22:28:32.845Z"
   },
   {
    "duration": 871,
    "start_time": "2022-02-12T22:28:35.334Z"
   },
   {
    "duration": 18819,
    "start_time": "2022-02-12T22:28:43.120Z"
   },
   {
    "duration": 1258,
    "start_time": "2022-02-12T22:29:25.079Z"
   },
   {
    "duration": 21,
    "start_time": "2022-02-12T22:29:26.339Z"
   },
   {
    "duration": 30,
    "start_time": "2022-02-12T22:29:26.363Z"
   },
   {
    "duration": 23,
    "start_time": "2022-02-12T22:29:26.396Z"
   },
   {
    "duration": 23,
    "start_time": "2022-02-12T22:29:26.421Z"
   },
   {
    "duration": 19,
    "start_time": "2022-02-12T22:29:26.447Z"
   },
   {
    "duration": 47,
    "start_time": "2022-02-12T22:29:26.469Z"
   },
   {
    "duration": 23,
    "start_time": "2022-02-12T22:29:26.518Z"
   },
   {
    "duration": 9,
    "start_time": "2022-02-12T22:29:26.544Z"
   },
   {
    "duration": 30,
    "start_time": "2022-02-12T22:29:26.555Z"
   },
   {
    "duration": 36,
    "start_time": "2022-02-12T22:29:26.587Z"
   },
   {
    "duration": 29,
    "start_time": "2022-02-12T22:29:26.625Z"
   },
   {
    "duration": 24,
    "start_time": "2022-02-12T22:29:26.656Z"
   },
   {
    "duration": 14,
    "start_time": "2022-02-12T22:29:26.682Z"
   },
   {
    "duration": 23,
    "start_time": "2022-02-12T22:29:26.698Z"
   },
   {
    "duration": 26,
    "start_time": "2022-02-12T22:29:26.723Z"
   },
   {
    "duration": 913,
    "start_time": "2022-02-12T22:29:26.751Z"
   },
   {
    "duration": 370,
    "start_time": "2022-02-12T22:29:27.666Z"
   },
   {
    "duration": -313,
    "start_time": "2022-02-12T22:29:28.351Z"
   },
   {
    "duration": 1259,
    "start_time": "2022-02-12T22:30:00.391Z"
   },
   {
    "duration": 21,
    "start_time": "2022-02-12T22:30:01.652Z"
   },
   {
    "duration": 23,
    "start_time": "2022-02-12T22:30:01.676Z"
   },
   {
    "duration": 9,
    "start_time": "2022-02-12T22:30:01.702Z"
   },
   {
    "duration": 24,
    "start_time": "2022-02-12T22:30:01.713Z"
   },
   {
    "duration": 11,
    "start_time": "2022-02-12T22:30:01.740Z"
   },
   {
    "duration": 28,
    "start_time": "2022-02-12T22:30:01.753Z"
   },
   {
    "duration": 14,
    "start_time": "2022-02-12T22:30:01.799Z"
   },
   {
    "duration": 8,
    "start_time": "2022-02-12T22:30:01.815Z"
   },
   {
    "duration": 20,
    "start_time": "2022-02-12T22:30:01.826Z"
   },
   {
    "duration": 24,
    "start_time": "2022-02-12T22:30:01.848Z"
   },
   {
    "duration": 7,
    "start_time": "2022-02-12T22:30:01.875Z"
   },
   {
    "duration": 34,
    "start_time": "2022-02-12T22:30:01.884Z"
   },
   {
    "duration": 19,
    "start_time": "2022-02-12T22:30:01.920Z"
   },
   {
    "duration": 15,
    "start_time": "2022-02-12T22:30:01.941Z"
   },
   {
    "duration": 19,
    "start_time": "2022-02-12T22:30:01.958Z"
   },
   {
    "duration": 950,
    "start_time": "2022-02-12T22:30:01.979Z"
   },
   {
    "duration": 19984,
    "start_time": "2022-02-12T22:30:02.931Z"
   },
   {
    "duration": 372,
    "start_time": "2022-02-12T22:30:22.917Z"
   },
   {
    "duration": 32,
    "start_time": "2022-02-12T22:30:34.014Z"
   },
   {
    "duration": 14,
    "start_time": "2022-02-12T22:30:38.965Z"
   },
   {
    "duration": 7,
    "start_time": "2022-02-12T22:32:34.178Z"
   },
   {
    "duration": 25,
    "start_time": "2022-02-12T22:33:03.813Z"
   },
   {
    "duration": 286,
    "start_time": "2022-02-12T22:34:35.449Z"
   },
   {
    "duration": 291,
    "start_time": "2022-02-12T22:34:45.048Z"
   },
   {
    "duration": 1631,
    "start_time": "2022-02-12T22:35:03.997Z"
   },
   {
    "duration": 23,
    "start_time": "2022-02-12T22:36:13.292Z"
   },
   {
    "duration": 6,
    "start_time": "2022-02-12T22:36:32.280Z"
   },
   {
    "duration": 338,
    "start_time": "2022-02-13T06:57:51.036Z"
   },
   {
    "duration": 1508,
    "start_time": "2022-02-13T06:58:00.560Z"
   },
   {
    "duration": 51,
    "start_time": "2022-02-13T06:58:02.070Z"
   },
   {
    "duration": 17,
    "start_time": "2022-02-13T06:58:02.124Z"
   },
   {
    "duration": 12,
    "start_time": "2022-02-13T06:58:02.144Z"
   },
   {
    "duration": 8,
    "start_time": "2022-02-13T06:58:02.159Z"
   },
   {
    "duration": 55,
    "start_time": "2022-02-13T06:58:02.170Z"
   },
   {
    "duration": 40,
    "start_time": "2022-02-13T06:58:02.228Z"
   },
   {
    "duration": 55,
    "start_time": "2022-02-13T06:58:02.272Z"
   },
   {
    "duration": 12,
    "start_time": "2022-02-13T06:58:02.330Z"
   },
   {
    "duration": 12,
    "start_time": "2022-02-13T06:58:02.346Z"
   },
   {
    "duration": 9,
    "start_time": "2022-02-13T06:58:02.361Z"
   },
   {
    "duration": 10,
    "start_time": "2022-02-13T06:58:02.373Z"
   },
   {
    "duration": 9,
    "start_time": "2022-02-13T06:58:02.424Z"
   },
   {
    "duration": 16,
    "start_time": "2022-02-13T06:58:02.435Z"
   },
   {
    "duration": 28,
    "start_time": "2022-02-13T06:58:02.454Z"
   },
   {
    "duration": 12,
    "start_time": "2022-02-13T06:58:02.485Z"
   },
   {
    "duration": 1229,
    "start_time": "2022-02-13T06:58:02.499Z"
   },
   {
    "duration": 28064,
    "start_time": "2022-02-13T06:58:03.731Z"
   },
   {
    "duration": 41,
    "start_time": "2022-02-13T06:58:31.797Z"
   },
   {
    "duration": 387,
    "start_time": "2022-02-13T06:58:31.841Z"
   },
   {
    "duration": 822,
    "start_time": "2022-02-13T06:58:31.409Z"
   },
   {
    "duration": 775,
    "start_time": "2022-02-13T06:58:31.458Z"
   },
   {
    "duration": 9,
    "start_time": "2022-02-13T06:58:46.464Z"
   },
   {
    "duration": 34,
    "start_time": "2022-02-13T06:58:49.197Z"
   },
   {
    "duration": 10,
    "start_time": "2022-02-13T06:58:49.657Z"
   },
   {
    "duration": 21,
    "start_time": "2022-02-13T07:00:33.127Z"
   },
   {
    "duration": 13,
    "start_time": "2022-02-13T07:00:38.065Z"
   },
   {
    "duration": 129,
    "start_time": "2022-02-13T07:01:09.108Z"
   },
   {
    "duration": 19,
    "start_time": "2022-02-13T07:01:32.291Z"
   },
   {
    "duration": 14,
    "start_time": "2022-02-13T07:01:40.282Z"
   },
   {
    "duration": 124,
    "start_time": "2022-02-13T07:02:11.754Z"
   },
   {
    "duration": 130,
    "start_time": "2022-02-13T07:02:15.303Z"
   },
   {
    "duration": 6,
    "start_time": "2022-02-13T07:10:05.722Z"
   },
   {
    "duration": 9,
    "start_time": "2022-02-13T07:10:05.730Z"
   },
   {
    "duration": 17,
    "start_time": "2022-02-13T07:10:05.742Z"
   },
   {
    "duration": 13,
    "start_time": "2022-02-13T07:10:05.762Z"
   },
   {
    "duration": 51,
    "start_time": "2022-02-13T07:10:05.779Z"
   },
   {
    "duration": 9,
    "start_time": "2022-02-13T07:10:05.833Z"
   },
   {
    "duration": 10,
    "start_time": "2022-02-13T07:10:05.844Z"
   },
   {
    "duration": 91,
    "start_time": "2022-02-13T07:10:05.857Z"
   },
   {
    "duration": 23,
    "start_time": "2022-02-13T07:10:05.951Z"
   },
   {
    "duration": 12,
    "start_time": "2022-02-13T07:10:05.980Z"
   },
   {
    "duration": 11,
    "start_time": "2022-02-13T07:10:06.024Z"
   },
   {
    "duration": 9,
    "start_time": "2022-02-13T07:10:06.038Z"
   },
   {
    "duration": 8,
    "start_time": "2022-02-13T07:10:06.049Z"
   },
   {
    "duration": 14,
    "start_time": "2022-02-13T07:10:06.059Z"
   },
   {
    "duration": 49,
    "start_time": "2022-02-13T07:10:06.076Z"
   },
   {
    "duration": 16,
    "start_time": "2022-02-13T07:10:06.128Z"
   },
   {
    "duration": 12,
    "start_time": "2022-02-13T07:10:06.147Z"
   },
   {
    "duration": 1208,
    "start_time": "2022-02-13T07:10:06.162Z"
   },
   {
    "duration": 30218,
    "start_time": "2022-02-13T07:10:07.373Z"
   },
   {
    "duration": 42,
    "start_time": "2022-02-13T07:10:37.594Z"
   },
   {
    "duration": 14,
    "start_time": "2022-02-13T07:10:37.641Z"
   },
   {
    "duration": 158,
    "start_time": "2022-02-13T07:10:37.657Z"
   },
   {
    "duration": 20,
    "start_time": "2022-02-13T07:10:37.823Z"
   },
   {
    "duration": 292,
    "start_time": "2022-02-13T07:20:16.508Z"
   },
   {
    "duration": 12,
    "start_time": "2022-02-13T07:20:24.755Z"
   },
   {
    "duration": 8,
    "start_time": "2022-02-13T07:20:24.770Z"
   },
   {
    "duration": 23,
    "start_time": "2022-02-13T07:20:24.781Z"
   },
   {
    "duration": 22,
    "start_time": "2022-02-13T07:20:24.809Z"
   },
   {
    "duration": 20,
    "start_time": "2022-02-13T07:20:24.834Z"
   },
   {
    "duration": 12,
    "start_time": "2022-02-13T07:20:24.858Z"
   },
   {
    "duration": 51,
    "start_time": "2022-02-13T07:20:24.878Z"
   },
   {
    "duration": 36,
    "start_time": "2022-02-13T07:20:24.933Z"
   },
   {
    "duration": 53,
    "start_time": "2022-02-13T07:20:24.973Z"
   },
   {
    "duration": 11,
    "start_time": "2022-02-13T07:20:25.029Z"
   },
   {
    "duration": 13,
    "start_time": "2022-02-13T07:20:25.043Z"
   },
   {
    "duration": 8,
    "start_time": "2022-02-13T07:20:25.059Z"
   },
   {
    "duration": 53,
    "start_time": "2022-02-13T07:20:25.070Z"
   },
   {
    "duration": 9,
    "start_time": "2022-02-13T07:20:25.126Z"
   },
   {
    "duration": 15,
    "start_time": "2022-02-13T07:20:25.137Z"
   },
   {
    "duration": 12,
    "start_time": "2022-02-13T07:20:25.155Z"
   },
   {
    "duration": 56,
    "start_time": "2022-02-13T07:20:25.170Z"
   },
   {
    "duration": 331,
    "start_time": "2022-02-13T07:20:25.230Z"
   },
   {
    "duration": 761,
    "start_time": "2022-02-13T07:20:24.803Z"
   },
   {
    "duration": 755,
    "start_time": "2022-02-13T07:20:24.811Z"
   },
   {
    "duration": 748,
    "start_time": "2022-02-13T07:20:24.820Z"
   },
   {
    "duration": 740,
    "start_time": "2022-02-13T07:20:24.830Z"
   },
   {
    "duration": 732,
    "start_time": "2022-02-13T07:20:24.840Z"
   },
   {
    "duration": 332,
    "start_time": "2022-02-13T07:21:55.552Z"
   },
   {
    "duration": 295,
    "start_time": "2022-02-13T07:22:25.253Z"
   },
   {
    "duration": 1408,
    "start_time": "2022-02-13T07:22:44.711Z"
   },
   {
    "duration": 4,
    "start_time": "2022-02-13T07:22:46.124Z"
   },
   {
    "duration": 17,
    "start_time": "2022-02-13T07:22:46.131Z"
   },
   {
    "duration": 24,
    "start_time": "2022-02-13T07:22:46.151Z"
   },
   {
    "duration": 12,
    "start_time": "2022-02-13T07:22:46.178Z"
   },
   {
    "duration": 10,
    "start_time": "2022-02-13T07:22:46.224Z"
   },
   {
    "duration": 11,
    "start_time": "2022-02-13T07:22:46.237Z"
   },
   {
    "duration": 79,
    "start_time": "2022-02-13T07:22:46.251Z"
   },
   {
    "duration": 18,
    "start_time": "2022-02-13T07:22:46.335Z"
   },
   {
    "duration": 10,
    "start_time": "2022-02-13T07:22:46.356Z"
   },
   {
    "duration": 8,
    "start_time": "2022-02-13T07:22:46.369Z"
   },
   {
    "duration": 47,
    "start_time": "2022-02-13T07:22:46.379Z"
   },
   {
    "duration": 9,
    "start_time": "2022-02-13T07:22:46.428Z"
   },
   {
    "duration": 13,
    "start_time": "2022-02-13T07:22:46.439Z"
   },
   {
    "duration": 9,
    "start_time": "2022-02-13T07:22:46.455Z"
   },
   {
    "duration": 10,
    "start_time": "2022-02-13T07:22:46.466Z"
   },
   {
    "duration": 9,
    "start_time": "2022-02-13T07:22:46.478Z"
   },
   {
    "duration": 591,
    "start_time": "2022-02-13T07:22:46.524Z"
   },
   {
    "duration": 897,
    "start_time": "2022-02-13T07:22:46.222Z"
   },
   {
    "duration": 881,
    "start_time": "2022-02-13T07:22:46.241Z"
   },
   {
    "duration": 861,
    "start_time": "2022-02-13T07:22:46.263Z"
   },
   {
    "duration": 859,
    "start_time": "2022-02-13T07:22:46.268Z"
   },
   {
    "duration": 846,
    "start_time": "2022-02-13T07:22:46.284Z"
   },
   {
    "duration": 1163,
    "start_time": "2022-02-13T07:23:46.153Z"
   },
   {
    "duration": 29162,
    "start_time": "2022-02-13T07:23:58.082Z"
   },
   {
    "duration": 25,
    "start_time": "2022-02-13T07:24:27.246Z"
   },
   {
    "duration": 277,
    "start_time": "2022-02-13T07:27:31.761Z"
   },
   {
    "duration": 1621,
    "start_time": "2022-02-13T07:27:56.855Z"
   },
   {
    "duration": 5,
    "start_time": "2022-02-13T07:27:58.479Z"
   },
   {
    "duration": 21,
    "start_time": "2022-02-13T07:27:58.488Z"
   },
   {
    "duration": 34,
    "start_time": "2022-02-13T07:27:58.512Z"
   },
   {
    "duration": 10,
    "start_time": "2022-02-13T07:27:58.549Z"
   },
   {
    "duration": 10,
    "start_time": "2022-02-13T07:27:58.562Z"
   },
   {
    "duration": 48,
    "start_time": "2022-02-13T07:27:58.575Z"
   },
   {
    "duration": 35,
    "start_time": "2022-02-13T07:27:58.627Z"
   },
   {
    "duration": 17,
    "start_time": "2022-02-13T07:27:58.665Z"
   },
   {
    "duration": 42,
    "start_time": "2022-02-13T07:27:58.684Z"
   },
   {
    "duration": 10,
    "start_time": "2022-02-13T07:27:58.728Z"
   },
   {
    "duration": 11,
    "start_time": "2022-02-13T07:27:58.741Z"
   },
   {
    "duration": 9,
    "start_time": "2022-02-13T07:27:58.755Z"
   },
   {
    "duration": 8,
    "start_time": "2022-02-13T07:27:58.767Z"
   },
   {
    "duration": 55,
    "start_time": "2022-02-13T07:27:58.777Z"
   },
   {
    "duration": 20,
    "start_time": "2022-02-13T07:27:58.835Z"
   },
   {
    "duration": 15,
    "start_time": "2022-02-13T07:27:58.858Z"
   },
   {
    "duration": 1234,
    "start_time": "2022-02-13T07:27:58.875Z"
   },
   {
    "duration": 28355,
    "start_time": "2022-02-13T07:28:00.111Z"
   },
   {
    "duration": 30,
    "start_time": "2022-02-13T07:28:28.469Z"
   },
   {
    "duration": 9,
    "start_time": "2022-02-13T07:28:28.528Z"
   },
   {
    "duration": 19,
    "start_time": "2022-02-13T07:28:28.540Z"
   },
   {
    "duration": 7,
    "start_time": "2022-02-13T07:28:28.563Z"
   },
   {
    "duration": 16,
    "start_time": "2022-02-13T07:35:15.719Z"
   },
   {
    "duration": 7,
    "start_time": "2022-02-13T07:36:06.292Z"
   },
   {
    "duration": 14,
    "start_time": "2022-02-13T07:36:22.845Z"
   },
   {
    "duration": 10,
    "start_time": "2022-02-13T09:24:22.725Z"
   },
   {
    "duration": 454,
    "start_time": "2022-02-13T09:24:44.148Z"
   },
   {
    "duration": 1739,
    "start_time": "2022-02-13T09:25:05.580Z"
   },
   {
    "duration": 4,
    "start_time": "2022-02-13T09:25:07.324Z"
   },
   {
    "duration": 21,
    "start_time": "2022-02-13T09:25:07.331Z"
   },
   {
    "duration": 23,
    "start_time": "2022-02-13T09:25:07.354Z"
   },
   {
    "duration": 10,
    "start_time": "2022-02-13T09:25:07.380Z"
   },
   {
    "duration": 37,
    "start_time": "2022-02-13T09:25:07.392Z"
   },
   {
    "duration": 9,
    "start_time": "2022-02-13T09:25:07.431Z"
   },
   {
    "duration": 35,
    "start_time": "2022-02-13T09:25:07.443Z"
   },
   {
    "duration": 54,
    "start_time": "2022-02-13T09:25:07.481Z"
   },
   {
    "duration": 15,
    "start_time": "2022-02-13T09:25:07.538Z"
   },
   {
    "duration": 10,
    "start_time": "2022-02-13T09:25:07.556Z"
   },
   {
    "duration": 13,
    "start_time": "2022-02-13T09:25:07.577Z"
   },
   {
    "duration": 713,
    "start_time": "2022-02-13T09:25:07.594Z"
   },
   {
    "duration": 716,
    "start_time": "2022-02-13T09:25:07.595Z"
   },
   {
    "duration": 719,
    "start_time": "2022-02-13T09:25:07.604Z"
   },
   {
    "duration": 684,
    "start_time": "2022-02-13T09:25:07.641Z"
   },
   {
    "duration": 677,
    "start_time": "2022-02-13T09:25:07.650Z"
   },
   {
    "duration": 639,
    "start_time": "2022-02-13T09:25:07.690Z"
   },
   {
    "duration": 632,
    "start_time": "2022-02-13T09:25:07.699Z"
   },
   {
    "duration": 611,
    "start_time": "2022-02-13T09:25:07.722Z"
   },
   {
    "duration": 586,
    "start_time": "2022-02-13T09:25:07.749Z"
   },
   {
    "duration": 568,
    "start_time": "2022-02-13T09:25:07.769Z"
   },
   {
    "duration": 541,
    "start_time": "2022-02-13T09:25:07.798Z"
   },
   {
    "duration": 9,
    "start_time": "2022-02-13T09:25:30.313Z"
   },
   {
    "duration": 9,
    "start_time": "2022-02-13T09:25:32.465Z"
   },
   {
    "duration": 9,
    "start_time": "2022-02-13T09:25:34.026Z"
   },
   {
    "duration": 8,
    "start_time": "2022-02-13T09:25:34.866Z"
   },
   {
    "duration": 6,
    "start_time": "2022-02-13T09:25:41.513Z"
   },
   {
    "duration": 11,
    "start_time": "2022-02-13T09:25:41.522Z"
   },
   {
    "duration": 19,
    "start_time": "2022-02-13T09:25:41.535Z"
   },
   {
    "duration": 14,
    "start_time": "2022-02-13T09:25:41.556Z"
   },
   {
    "duration": 9,
    "start_time": "2022-02-13T09:25:41.572Z"
   },
   {
    "duration": 41,
    "start_time": "2022-02-13T09:25:41.584Z"
   },
   {
    "duration": 10,
    "start_time": "2022-02-13T09:25:41.629Z"
   },
   {
    "duration": 84,
    "start_time": "2022-02-13T09:25:41.642Z"
   },
   {
    "duration": 24,
    "start_time": "2022-02-13T09:25:41.729Z"
   },
   {
    "duration": 10,
    "start_time": "2022-02-13T09:25:41.756Z"
   },
   {
    "duration": 11,
    "start_time": "2022-02-13T09:25:41.769Z"
   },
   {
    "duration": 16,
    "start_time": "2022-02-13T09:25:41.822Z"
   },
   {
    "duration": 23,
    "start_time": "2022-02-13T09:25:41.841Z"
   },
   {
    "duration": 10,
    "start_time": "2022-02-13T09:25:41.867Z"
   },
   {
    "duration": 10,
    "start_time": "2022-02-13T09:25:41.881Z"
   },
   {
    "duration": 37,
    "start_time": "2022-02-13T09:25:41.895Z"
   },
   {
    "duration": 14,
    "start_time": "2022-02-13T09:25:41.935Z"
   },
   {
    "duration": 1261,
    "start_time": "2022-02-13T09:25:41.952Z"
   },
   {
    "duration": 32945,
    "start_time": "2022-02-13T09:25:43.216Z"
   },
   {
    "duration": 17,
    "start_time": "2022-02-13T09:26:16.163Z"
   },
   {
    "duration": 39,
    "start_time": "2022-02-13T09:26:16.183Z"
   },
   {
    "duration": 26,
    "start_time": "2022-02-13T09:26:16.225Z"
   },
   {
    "duration": 9,
    "start_time": "2022-02-13T09:26:16.254Z"
   },
   {
    "duration": 6,
    "start_time": "2022-02-13T09:34:06.107Z"
   },
   {
    "duration": 8,
    "start_time": "2022-02-13T09:34:06.116Z"
   },
   {
    "duration": 24,
    "start_time": "2022-02-13T09:34:06.127Z"
   },
   {
    "duration": 17,
    "start_time": "2022-02-13T09:34:06.155Z"
   },
   {
    "duration": 15,
    "start_time": "2022-02-13T09:34:06.175Z"
   },
   {
    "duration": 38,
    "start_time": "2022-02-13T09:34:06.193Z"
   },
   {
    "duration": 12,
    "start_time": "2022-02-13T09:34:06.234Z"
   },
   {
    "duration": 36,
    "start_time": "2022-02-13T09:34:06.249Z"
   },
   {
    "duration": 57,
    "start_time": "2022-02-13T09:34:06.289Z"
   },
   {
    "duration": 13,
    "start_time": "2022-02-13T09:34:06.350Z"
   },
   {
    "duration": 11,
    "start_time": "2022-02-13T09:34:06.367Z"
   },
   {
    "duration": 8,
    "start_time": "2022-02-13T09:34:06.423Z"
   },
   {
    "duration": 8,
    "start_time": "2022-02-13T09:34:06.434Z"
   },
   {
    "duration": 11,
    "start_time": "2022-02-13T09:34:06.445Z"
   },
   {
    "duration": 12,
    "start_time": "2022-02-13T09:34:06.459Z"
   },
   {
    "duration": 9,
    "start_time": "2022-02-13T09:34:06.474Z"
   },
   {
    "duration": 10,
    "start_time": "2022-02-13T09:34:06.524Z"
   },
   {
    "duration": 1189,
    "start_time": "2022-02-13T09:34:06.536Z"
   },
   {
    "duration": 28759,
    "start_time": "2022-02-13T09:34:07.728Z"
   },
   {
    "duration": 37,
    "start_time": "2022-02-13T09:34:36.490Z"
   },
   {
    "duration": 24,
    "start_time": "2022-02-13T09:34:36.530Z"
   },
   {
    "duration": 15,
    "start_time": "2022-02-13T09:34:36.559Z"
   },
   {
    "duration": 12,
    "start_time": "2022-02-13T09:34:36.580Z"
   },
   {
    "duration": 11,
    "start_time": "2022-02-13T09:35:28.902Z"
   },
   {
    "duration": 2097,
    "start_time": "2022-02-13T09:35:45.006Z"
   },
   {
    "duration": 4,
    "start_time": "2022-02-13T09:35:47.106Z"
   },
   {
    "duration": 26,
    "start_time": "2022-02-13T09:35:47.113Z"
   },
   {
    "duration": 26,
    "start_time": "2022-02-13T09:35:47.141Z"
   },
   {
    "duration": 10,
    "start_time": "2022-02-13T09:35:47.169Z"
   },
   {
    "duration": 46,
    "start_time": "2022-02-13T09:35:47.181Z"
   },
   {
    "duration": 12,
    "start_time": "2022-02-13T09:35:47.229Z"
   },
   {
    "duration": 51,
    "start_time": "2022-02-13T09:35:47.247Z"
   },
   {
    "duration": 19,
    "start_time": "2022-02-13T09:35:47.325Z"
   },
   {
    "duration": 13,
    "start_time": "2022-02-13T09:35:47.347Z"
   },
   {
    "duration": 9,
    "start_time": "2022-02-13T09:35:47.362Z"
   },
   {
    "duration": 49,
    "start_time": "2022-02-13T09:35:47.374Z"
   },
   {
    "duration": 8,
    "start_time": "2022-02-13T09:35:47.426Z"
   },
   {
    "duration": 9,
    "start_time": "2022-02-13T09:35:47.436Z"
   },
   {
    "duration": 12,
    "start_time": "2022-02-13T09:35:47.448Z"
   },
   {
    "duration": 11,
    "start_time": "2022-02-13T09:35:47.462Z"
   },
   {
    "duration": 53,
    "start_time": "2022-02-13T09:35:47.476Z"
   },
   {
    "duration": 1155,
    "start_time": "2022-02-13T09:35:47.532Z"
   },
   {
    "duration": 29489,
    "start_time": "2022-02-13T09:35:48.690Z"
   },
   {
    "duration": 17,
    "start_time": "2022-02-13T09:36:18.181Z"
   },
   {
    "duration": 28,
    "start_time": "2022-02-13T09:36:18.201Z"
   },
   {
    "duration": 33,
    "start_time": "2022-02-13T09:36:18.231Z"
   },
   {
    "duration": 10,
    "start_time": "2022-02-13T09:36:18.267Z"
   },
   {
    "duration": 1759,
    "start_time": "2022-02-13T10:12:48.565Z"
   },
   {
    "duration": 6,
    "start_time": "2022-02-13T10:12:50.327Z"
   },
   {
    "duration": 27,
    "start_time": "2022-02-13T10:12:50.337Z"
   },
   {
    "duration": 78,
    "start_time": "2022-02-13T10:12:50.368Z"
   },
   {
    "duration": 18,
    "start_time": "2022-02-13T10:12:50.448Z"
   },
   {
    "duration": 70,
    "start_time": "2022-02-13T10:12:50.469Z"
   },
   {
    "duration": 10,
    "start_time": "2022-02-13T10:12:50.542Z"
   },
   {
    "duration": 108,
    "start_time": "2022-02-13T10:12:50.557Z"
   },
   {
    "duration": 73,
    "start_time": "2022-02-13T10:12:50.669Z"
   },
   {
    "duration": 16,
    "start_time": "2022-02-13T10:12:50.744Z"
   },
   {
    "duration": 13,
    "start_time": "2022-02-13T10:12:50.762Z"
   },
   {
    "duration": 56,
    "start_time": "2022-02-13T10:12:50.778Z"
   },
   {
    "duration": 26,
    "start_time": "2022-02-13T10:12:50.840Z"
   },
   {
    "duration": 54,
    "start_time": "2022-02-13T10:12:50.868Z"
   },
   {
    "duration": 10,
    "start_time": "2022-02-13T10:12:50.926Z"
   },
   {
    "duration": 28,
    "start_time": "2022-02-13T10:12:50.939Z"
   },
   {
    "duration": 60,
    "start_time": "2022-02-13T10:12:50.969Z"
   },
   {
    "duration": 1336,
    "start_time": "2022-02-13T10:12:51.036Z"
   },
   {
    "duration": 30511,
    "start_time": "2022-02-13T10:12:52.376Z"
   },
   {
    "duration": 41,
    "start_time": "2022-02-13T10:13:22.891Z"
   },
   {
    "duration": 14,
    "start_time": "2022-02-13T10:13:22.934Z"
   },
   {
    "duration": 28,
    "start_time": "2022-02-13T10:13:22.952Z"
   },
   {
    "duration": 8,
    "start_time": "2022-02-13T10:13:22.984Z"
   },
   {
    "duration": 1349,
    "start_time": "2022-02-13T10:16:40.613Z"
   },
   {
    "duration": 4,
    "start_time": "2022-02-13T10:16:41.965Z"
   },
   {
    "duration": 20,
    "start_time": "2022-02-13T10:16:41.972Z"
   },
   {
    "duration": 39,
    "start_time": "2022-02-13T10:16:41.996Z"
   },
   {
    "duration": 9,
    "start_time": "2022-02-13T10:16:42.038Z"
   },
   {
    "duration": 10,
    "start_time": "2022-02-13T10:16:42.050Z"
   },
   {
    "duration": 10,
    "start_time": "2022-02-13T10:16:42.063Z"
   },
   {
    "duration": 78,
    "start_time": "2022-02-13T10:16:42.075Z"
   },
   {
    "duration": 16,
    "start_time": "2022-02-13T10:16:42.159Z"
   },
   {
    "duration": 48,
    "start_time": "2022-02-13T10:16:42.178Z"
   },
   {
    "duration": 11,
    "start_time": "2022-02-13T10:16:42.229Z"
   },
   {
    "duration": 8,
    "start_time": "2022-02-13T10:16:42.243Z"
   },
   {
    "duration": 7,
    "start_time": "2022-02-13T10:16:42.254Z"
   },
   {
    "duration": 10,
    "start_time": "2022-02-13T10:16:42.264Z"
   },
   {
    "duration": 12,
    "start_time": "2022-02-13T10:16:42.324Z"
   },
   {
    "duration": 14,
    "start_time": "2022-02-13T10:16:42.339Z"
   },
   {
    "duration": 13,
    "start_time": "2022-02-13T10:16:42.356Z"
   },
   {
    "duration": 1197,
    "start_time": "2022-02-13T10:16:42.372Z"
   },
   {
    "duration": 35241,
    "start_time": "2022-02-13T10:16:43.572Z"
   },
   {
    "duration": 21,
    "start_time": "2022-02-13T10:17:18.823Z"
   },
   {
    "duration": 9,
    "start_time": "2022-02-13T10:17:18.846Z"
   },
   {
    "duration": 72,
    "start_time": "2022-02-13T10:17:18.858Z"
   },
   {
    "duration": 12,
    "start_time": "2022-02-13T10:17:18.934Z"
   },
   {
    "duration": 10,
    "start_time": "2022-02-13T10:19:10.513Z"
   },
   {
    "duration": 11,
    "start_time": "2022-02-13T10:19:33.377Z"
   },
   {
    "duration": 13,
    "start_time": "2022-02-13T10:23:43.186Z"
   },
   {
    "duration": 13,
    "start_time": "2022-02-13T10:24:19.469Z"
   },
   {
    "duration": 15,
    "start_time": "2022-02-13T10:33:54.738Z"
   },
   {
    "duration": 11,
    "start_time": "2022-02-13T10:35:29.528Z"
   },
   {
    "duration": 15,
    "start_time": "2022-02-13T10:35:49.695Z"
   },
   {
    "duration": 976,
    "start_time": "2022-02-13T10:36:00.127Z"
   },
   {
    "duration": 292,
    "start_time": "2022-02-13T10:36:17.021Z"
   },
   {
    "duration": 15,
    "start_time": "2022-02-13T10:36:42.871Z"
   },
   {
    "duration": 14,
    "start_time": "2022-02-13T10:37:10.496Z"
   },
   {
    "duration": 13,
    "start_time": "2022-02-13T10:37:20.547Z"
   },
   {
    "duration": 16,
    "start_time": "2022-02-13T10:37:41.824Z"
   },
   {
    "duration": 13,
    "start_time": "2022-02-13T10:38:22.491Z"
   },
   {
    "duration": 403,
    "start_time": "2022-02-13T10:42:18.834Z"
   },
   {
    "duration": 16,
    "start_time": "2022-02-13T10:42:57.514Z"
   },
   {
    "duration": 46,
    "start_time": "2022-02-13T10:46:19.328Z"
   },
   {
    "duration": 56,
    "start_time": "2022-02-13T10:46:41.597Z"
   },
   {
    "duration": 337,
    "start_time": "2022-02-13T10:48:46.582Z"
   },
   {
    "duration": 44,
    "start_time": "2022-02-13T10:48:58.786Z"
   },
   {
    "duration": 56,
    "start_time": "2022-02-13T10:49:53.174Z"
   },
   {
    "duration": 1472,
    "start_time": "2022-02-13T10:58:19.802Z"
   },
   {
    "duration": 5,
    "start_time": "2022-02-13T10:58:21.277Z"
   },
   {
    "duration": 24,
    "start_time": "2022-02-13T10:58:21.285Z"
   },
   {
    "duration": 38,
    "start_time": "2022-02-13T10:58:21.324Z"
   },
   {
    "duration": 10,
    "start_time": "2022-02-13T10:58:21.366Z"
   },
   {
    "duration": 12,
    "start_time": "2022-02-13T10:58:21.379Z"
   },
   {
    "duration": 37,
    "start_time": "2022-02-13T10:58:21.395Z"
   },
   {
    "duration": 38,
    "start_time": "2022-02-13T10:58:21.437Z"
   },
   {
    "duration": 50,
    "start_time": "2022-02-13T10:58:21.480Z"
   },
   {
    "duration": 10,
    "start_time": "2022-02-13T10:58:21.533Z"
   },
   {
    "duration": 10,
    "start_time": "2022-02-13T10:58:21.546Z"
   },
   {
    "duration": 9,
    "start_time": "2022-02-13T10:58:21.559Z"
   },
   {
    "duration": 56,
    "start_time": "2022-02-13T10:58:21.570Z"
   },
   {
    "duration": 9,
    "start_time": "2022-02-13T10:58:21.628Z"
   },
   {
    "duration": 9,
    "start_time": "2022-02-13T10:58:21.641Z"
   },
   {
    "duration": 19,
    "start_time": "2022-02-13T10:58:21.653Z"
   },
   {
    "duration": 10,
    "start_time": "2022-02-13T10:58:21.675Z"
   },
   {
    "duration": 1285,
    "start_time": "2022-02-13T10:58:21.725Z"
   },
   {
    "duration": 36047,
    "start_time": "2022-02-13T10:58:23.013Z"
   },
   {
    "duration": 23,
    "start_time": "2022-02-13T10:58:59.063Z"
   },
   {
    "duration": 36,
    "start_time": "2022-02-13T10:58:59.089Z"
   },
   {
    "duration": 28,
    "start_time": "2022-02-13T10:58:59.128Z"
   },
   {
    "duration": 8,
    "start_time": "2022-02-13T10:58:59.160Z"
   },
   {
    "duration": 53,
    "start_time": "2022-02-13T10:58:59.171Z"
   },
   {
    "duration": 98,
    "start_time": "2022-02-13T10:58:59.226Z"
   },
   {
    "duration": 1522,
    "start_time": "2022-02-13T11:13:06.240Z"
   },
   {
    "duration": 4,
    "start_time": "2022-02-13T11:13:07.765Z"
   },
   {
    "duration": 22,
    "start_time": "2022-02-13T11:13:07.772Z"
   },
   {
    "duration": 39,
    "start_time": "2022-02-13T11:13:07.797Z"
   },
   {
    "duration": 12,
    "start_time": "2022-02-13T11:13:07.839Z"
   },
   {
    "duration": 13,
    "start_time": "2022-02-13T11:13:07.854Z"
   },
   {
    "duration": 18,
    "start_time": "2022-02-13T11:13:07.870Z"
   },
   {
    "duration": 37,
    "start_time": "2022-02-13T11:13:07.925Z"
   },
   {
    "duration": 24,
    "start_time": "2022-02-13T11:13:07.966Z"
   },
   {
    "duration": 39,
    "start_time": "2022-02-13T11:13:07.993Z"
   },
   {
    "duration": 14,
    "start_time": "2022-02-13T11:13:08.035Z"
   },
   {
    "duration": 15,
    "start_time": "2022-02-13T11:13:08.054Z"
   },
   {
    "duration": 11,
    "start_time": "2022-02-13T11:13:08.072Z"
   },
   {
    "duration": 49,
    "start_time": "2022-02-13T11:13:08.086Z"
   },
   {
    "duration": 26,
    "start_time": "2022-02-13T11:13:08.138Z"
   },
   {
    "duration": 9,
    "start_time": "2022-02-13T11:13:08.167Z"
   },
   {
    "duration": 12,
    "start_time": "2022-02-13T11:13:08.179Z"
   },
   {
    "duration": 1193,
    "start_time": "2022-02-13T11:13:08.193Z"
   },
   {
    "duration": 32352,
    "start_time": "2022-02-13T11:13:09.390Z"
   },
   {
    "duration": 16,
    "start_time": "2022-02-13T11:13:41.745Z"
   },
   {
    "duration": 9,
    "start_time": "2022-02-13T11:13:41.764Z"
   },
   {
    "duration": 71,
    "start_time": "2022-02-13T11:13:41.776Z"
   },
   {
    "duration": 8,
    "start_time": "2022-02-13T11:13:41.852Z"
   },
   {
    "duration": 22,
    "start_time": "2022-02-13T11:13:41.868Z"
   },
   {
    "duration": 67,
    "start_time": "2022-02-13T11:13:41.893Z"
   },
   {
    "duration": 1319,
    "start_time": "2022-02-13T11:13:56.461Z"
   },
   {
    "duration": 5,
    "start_time": "2022-02-13T11:13:57.783Z"
   },
   {
    "duration": 35,
    "start_time": "2022-02-13T11:13:57.792Z"
   },
   {
    "duration": 31,
    "start_time": "2022-02-13T11:13:57.831Z"
   },
   {
    "duration": 11,
    "start_time": "2022-02-13T11:13:57.866Z"
   },
   {
    "duration": 11,
    "start_time": "2022-02-13T11:13:57.880Z"
   },
   {
    "duration": 12,
    "start_time": "2022-02-13T11:13:57.924Z"
   },
   {
    "duration": 36,
    "start_time": "2022-02-13T11:13:57.942Z"
   },
   {
    "duration": 67,
    "start_time": "2022-02-13T11:13:57.982Z"
   },
   {
    "duration": 13,
    "start_time": "2022-02-13T11:13:58.052Z"
   },
   {
    "duration": 9,
    "start_time": "2022-02-13T11:13:58.069Z"
   },
   {
    "duration": 45,
    "start_time": "2022-02-13T11:13:58.081Z"
   },
   {
    "duration": 9,
    "start_time": "2022-02-13T11:13:58.129Z"
   },
   {
    "duration": 25,
    "start_time": "2022-02-13T11:13:58.141Z"
   },
   {
    "duration": 20,
    "start_time": "2022-02-13T11:13:58.170Z"
   },
   {
    "duration": 44,
    "start_time": "2022-02-13T11:13:58.193Z"
   },
   {
    "duration": 13,
    "start_time": "2022-02-13T11:13:58.241Z"
   },
   {
    "duration": 1653,
    "start_time": "2022-02-13T11:13:58.257Z"
   },
   {
    "duration": 35411,
    "start_time": "2022-02-13T11:13:59.913Z"
   },
   {
    "duration": 24,
    "start_time": "2022-02-13T11:14:35.327Z"
   },
   {
    "duration": 21,
    "start_time": "2022-02-13T11:14:35.354Z"
   },
   {
    "duration": 53,
    "start_time": "2022-02-13T11:14:35.378Z"
   },
   {
    "duration": 7,
    "start_time": "2022-02-13T11:14:35.436Z"
   },
   {
    "duration": 15,
    "start_time": "2022-02-13T11:14:35.446Z"
   },
   {
    "duration": 90,
    "start_time": "2022-02-13T11:14:35.464Z"
   },
   {
    "duration": 419,
    "start_time": "2022-02-13T13:08:14.457Z"
   },
   {
    "duration": 1938,
    "start_time": "2022-02-13T13:10:14.620Z"
   },
   {
    "duration": 5,
    "start_time": "2022-02-13T13:10:16.562Z"
   },
   {
    "duration": 25,
    "start_time": "2022-02-13T13:10:16.571Z"
   },
   {
    "duration": 35,
    "start_time": "2022-02-13T13:10:16.599Z"
   },
   {
    "duration": 10,
    "start_time": "2022-02-13T13:10:16.637Z"
   },
   {
    "duration": 10,
    "start_time": "2022-02-13T13:10:16.650Z"
   },
   {
    "duration": 14,
    "start_time": "2022-02-13T13:10:16.662Z"
   },
   {
    "duration": 74,
    "start_time": "2022-02-13T13:10:16.679Z"
   },
   {
    "duration": 21,
    "start_time": "2022-02-13T13:10:16.757Z"
   },
   {
    "duration": 45,
    "start_time": "2022-02-13T13:10:16.781Z"
   },
   {
    "duration": 14,
    "start_time": "2022-02-13T13:10:16.829Z"
   },
   {
    "duration": 12,
    "start_time": "2022-02-13T13:10:16.846Z"
   },
   {
    "duration": 7,
    "start_time": "2022-02-13T13:10:16.861Z"
   },
   {
    "duration": 13,
    "start_time": "2022-02-13T13:10:16.870Z"
   },
   {
    "duration": 9,
    "start_time": "2022-02-13T13:10:16.924Z"
   },
   {
    "duration": 19,
    "start_time": "2022-02-13T13:10:16.937Z"
   },
   {
    "duration": 29,
    "start_time": "2022-02-13T13:10:16.958Z"
   },
   {
    "duration": 1638,
    "start_time": "2022-02-13T13:10:16.990Z"
   },
   {
    "duration": 1395,
    "start_time": "2022-02-13T13:21:12.677Z"
   },
   {
    "duration": 8,
    "start_time": "2022-02-13T13:21:14.074Z"
   },
   {
    "duration": 287,
    "start_time": "2022-02-13T13:21:14.085Z"
   },
   {
    "duration": 278,
    "start_time": "2022-02-13T13:21:14.376Z"
   },
   {
    "duration": 387,
    "start_time": "2022-02-13T13:21:14.656Z"
   },
   {
    "duration": 204,
    "start_time": "2022-02-13T13:21:15.046Z"
   },
   {
    "duration": 273,
    "start_time": "2022-02-13T13:21:15.253Z"
   },
   {
    "duration": 348,
    "start_time": "2022-02-13T13:21:15.530Z"
   },
   {
    "duration": 156,
    "start_time": "2022-02-13T13:21:15.881Z"
   },
   {
    "duration": 188,
    "start_time": "2022-02-13T13:21:16.040Z"
   },
   {
    "duration": 190,
    "start_time": "2022-02-13T13:21:16.230Z"
   },
   {
    "duration": 194,
    "start_time": "2022-02-13T13:21:16.422Z"
   },
   {
    "duration": 210,
    "start_time": "2022-02-13T13:21:16.618Z"
   },
   {
    "duration": 170,
    "start_time": "2022-02-13T13:21:16.830Z"
   },
   {
    "duration": 170,
    "start_time": "2022-02-13T13:21:17.004Z"
   },
   {
    "duration": 187,
    "start_time": "2022-02-13T13:21:17.177Z"
   },
   {
    "duration": 171,
    "start_time": "2022-02-13T13:21:17.367Z"
   },
   {
    "duration": 1849,
    "start_time": "2022-02-13T13:21:26.689Z"
   },
   {
    "duration": 5,
    "start_time": "2022-02-13T13:21:28.541Z"
   },
   {
    "duration": 252,
    "start_time": "2022-02-13T13:21:28.551Z"
   },
   {
    "duration": 193,
    "start_time": "2022-02-13T13:21:28.808Z"
   },
   {
    "duration": 183,
    "start_time": "2022-02-13T13:21:29.004Z"
   },
   {
    "duration": 184,
    "start_time": "2022-02-13T13:21:29.189Z"
   },
   {
    "duration": 166,
    "start_time": "2022-02-13T13:21:29.380Z"
   },
   {
    "duration": 293,
    "start_time": "2022-02-13T13:21:29.552Z"
   },
   {
    "duration": 164,
    "start_time": "2022-02-13T13:21:29.850Z"
   },
   {
    "duration": 265,
    "start_time": "2022-02-13T13:21:30.018Z"
   },
   {
    "duration": 175,
    "start_time": "2022-02-13T13:21:30.285Z"
   },
   {
    "duration": 184,
    "start_time": "2022-02-13T13:21:30.462Z"
   },
   {
    "duration": 199,
    "start_time": "2022-02-13T13:21:30.649Z"
   },
   {
    "duration": 174,
    "start_time": "2022-02-13T13:21:30.851Z"
   },
   {
    "duration": 238,
    "start_time": "2022-02-13T13:21:31.028Z"
   },
   {
    "duration": 233,
    "start_time": "2022-02-13T13:21:31.269Z"
   },
   {
    "duration": 194,
    "start_time": "2022-02-13T13:21:31.505Z"
   },
   {
    "duration": 1403,
    "start_time": "2022-02-13T13:21:31.701Z"
   },
   {
    "duration": 172086,
    "start_time": "2022-02-13T13:21:33.107Z"
   },
   {
    "duration": 35,
    "start_time": "2022-02-13T13:24:25.196Z"
   },
   {
    "duration": 205,
    "start_time": "2022-02-13T13:24:25.234Z"
   },
   {
    "duration": 260,
    "start_time": "2022-02-13T13:24:25.442Z"
   },
   {
    "duration": 251,
    "start_time": "2022-02-13T13:24:25.706Z"
   },
   {
    "duration": 200,
    "start_time": "2022-02-13T13:24:25.960Z"
   },
   {
    "duration": 319,
    "start_time": "2022-02-13T13:24:26.162Z"
   },
   {
    "duration": 1493,
    "start_time": "2022-02-13T13:26:51.285Z"
   },
   {
    "duration": 4,
    "start_time": "2022-02-13T13:26:52.781Z"
   },
   {
    "duration": 208,
    "start_time": "2022-02-13T13:26:52.787Z"
   },
   {
    "duration": 203,
    "start_time": "2022-02-13T13:26:52.998Z"
   },
   {
    "duration": 239,
    "start_time": "2022-02-13T13:26:53.204Z"
   },
   {
    "duration": 253,
    "start_time": "2022-02-13T13:26:53.446Z"
   },
   {
    "duration": 178,
    "start_time": "2022-02-13T13:26:53.702Z"
   },
   {
    "duration": 150,
    "start_time": "2022-02-13T13:26:53.885Z"
   },
   {
    "duration": 110,
    "start_time": "2022-02-13T13:26:54.038Z"
   },
   {
    "duration": 185,
    "start_time": "2022-02-13T13:26:54.151Z"
   },
   {
    "duration": 163,
    "start_time": "2022-02-13T13:26:54.339Z"
   },
   {
    "duration": 242,
    "start_time": "2022-02-13T13:26:54.505Z"
   },
   {
    "duration": 323,
    "start_time": "2022-02-13T13:26:54.750Z"
   },
   {
    "duration": 349,
    "start_time": "2022-02-13T13:26:55.076Z"
   },
   {
    "duration": 313,
    "start_time": "2022-02-13T13:26:55.430Z"
   },
   {
    "duration": 604,
    "start_time": "2022-02-13T13:26:55.746Z"
   },
   {
    "duration": 377,
    "start_time": "2022-02-13T13:26:56.352Z"
   },
   {
    "duration": 1805,
    "start_time": "2022-02-13T13:26:56.732Z"
   },
   {
    "duration": 1441293,
    "start_time": "2022-02-13T13:26:58.540Z"
   },
   {
    "duration": 16,
    "start_time": "2022-02-13T13:50:59.835Z"
   },
   {
    "duration": 168,
    "start_time": "2022-02-13T13:50:59.854Z"
   },
   {
    "duration": 171,
    "start_time": "2022-02-13T13:51:00.025Z"
   },
   {
    "duration": 262,
    "start_time": "2022-02-13T13:51:00.202Z"
   },
   {
    "duration": 262,
    "start_time": "2022-02-13T13:51:00.466Z"
   },
   {
    "duration": 316,
    "start_time": "2022-02-13T13:51:00.730Z"
   },
   {
    "duration": 9,
    "start_time": "2022-02-13T13:58:36.489Z"
   },
   {
    "duration": 1604,
    "start_time": "2022-02-13T14:00:19.688Z"
   },
   {
    "duration": 4,
    "start_time": "2022-02-13T14:00:21.296Z"
   },
   {
    "duration": 241,
    "start_time": "2022-02-13T14:00:21.304Z"
   },
   {
    "duration": 203,
    "start_time": "2022-02-13T14:00:21.548Z"
   },
   {
    "duration": 222,
    "start_time": "2022-02-13T14:00:21.754Z"
   },
   {
    "duration": 159,
    "start_time": "2022-02-13T14:00:21.980Z"
   },
   {
    "duration": 161,
    "start_time": "2022-02-13T14:00:22.142Z"
   },
   {
    "duration": 169,
    "start_time": "2022-02-13T14:00:22.308Z"
   },
   {
    "duration": 171,
    "start_time": "2022-02-13T14:00:22.482Z"
   },
   {
    "duration": 226,
    "start_time": "2022-02-13T14:00:22.657Z"
   },
   {
    "duration": 129,
    "start_time": "2022-02-13T14:00:22.886Z"
   },
   {
    "duration": 132,
    "start_time": "2022-02-13T14:00:23.018Z"
   },
   {
    "duration": 174,
    "start_time": "2022-02-13T14:00:23.153Z"
   },
   {
    "duration": 172,
    "start_time": "2022-02-13T14:00:23.329Z"
   },
   {
    "duration": 179,
    "start_time": "2022-02-13T14:00:23.503Z"
   },
   {
    "duration": 164,
    "start_time": "2022-02-13T14:00:23.686Z"
   },
   {
    "duration": 183,
    "start_time": "2022-02-13T14:00:23.853Z"
   },
   {
    "duration": 1385,
    "start_time": "2022-02-13T14:00:24.041Z"
   },
   {
    "duration": 1389085,
    "start_time": "2022-02-13T14:00:25.429Z"
   },
   {
    "duration": 52,
    "start_time": "2022-02-13T14:23:34.526Z"
   },
   {
    "duration": 387,
    "start_time": "2022-02-13T14:23:34.596Z"
   },
   {
    "duration": 184,
    "start_time": "2022-02-13T14:23:34.985Z"
   },
   {
    "duration": 205,
    "start_time": "2022-02-13T14:23:35.174Z"
   },
   {
    "duration": 282,
    "start_time": "2022-02-13T14:23:35.382Z"
   },
   {
    "duration": 421,
    "start_time": "2022-02-13T14:23:35.667Z"
   },
   {
    "duration": 1501,
    "start_time": "2022-02-13T14:26:35.790Z"
   },
   {
    "duration": 5,
    "start_time": "2022-02-13T14:26:37.295Z"
   },
   {
    "duration": 211,
    "start_time": "2022-02-13T14:26:37.304Z"
   },
   {
    "duration": 202,
    "start_time": "2022-02-13T14:26:37.519Z"
   },
   {
    "duration": 222,
    "start_time": "2022-02-13T14:26:37.724Z"
   },
   {
    "duration": 326,
    "start_time": "2022-02-13T14:26:37.949Z"
   },
   {
    "duration": 248,
    "start_time": "2022-02-13T14:26:38.278Z"
   },
   {
    "duration": 258,
    "start_time": "2022-02-13T14:26:38.531Z"
   },
   {
    "duration": 217,
    "start_time": "2022-02-13T14:26:38.792Z"
   },
   {
    "duration": 297,
    "start_time": "2022-02-13T14:26:39.012Z"
   },
   {
    "duration": 210,
    "start_time": "2022-02-13T14:26:39.312Z"
   },
   {
    "duration": 184,
    "start_time": "2022-02-13T14:26:39.525Z"
   },
   {
    "duration": 201,
    "start_time": "2022-02-13T14:26:39.712Z"
   },
   {
    "duration": 209,
    "start_time": "2022-02-13T14:26:39.918Z"
   },
   {
    "duration": 182,
    "start_time": "2022-02-13T14:26:40.130Z"
   },
   {
    "duration": 204,
    "start_time": "2022-02-13T14:26:40.314Z"
   },
   {
    "duration": 202,
    "start_time": "2022-02-13T14:26:40.521Z"
   },
   {
    "duration": 1765,
    "start_time": "2022-02-13T14:26:40.727Z"
   },
   {
    "duration": 1362453,
    "start_time": "2022-02-13T14:26:42.496Z"
   },
   {
    "duration": 16,
    "start_time": "2022-02-13T14:49:24.951Z"
   },
   {
    "duration": 273,
    "start_time": "2022-02-13T14:49:24.969Z"
   },
   {
    "duration": 112,
    "start_time": "2022-02-13T14:49:25.245Z"
   },
   {
    "duration": 172,
    "start_time": "2022-02-13T14:49:25.361Z"
   },
   {
    "duration": 138,
    "start_time": "2022-02-13T14:49:25.536Z"
   },
   {
    "duration": 193,
    "start_time": "2022-02-13T14:49:25.678Z"
   },
   {
    "duration": 19,
    "start_time": "2022-02-13T14:52:17.922Z"
   }
  ],
  "kernelspec": {
   "display_name": "Python 3 (ipykernel)",
   "language": "python",
   "name": "python3"
  },
  "language_info": {
   "codemirror_mode": {
    "name": "ipython",
    "version": 3
   },
   "file_extension": ".py",
   "mimetype": "text/x-python",
   "name": "python",
   "nbconvert_exporter": "python",
   "pygments_lexer": "ipython3",
   "version": "3.7.8"
  },
  "toc": {
   "base_numbering": 1,
   "nav_menu": {},
   "number_sections": true,
   "sideBar": true,
   "skip_h1_title": true,
   "title_cell": "Table of Contents",
   "title_sidebar": "Contents",
   "toc_cell": false,
   "toc_position": {
    "height": "calc(100% - 180px)",
    "left": "10px",
    "top": "150px",
    "width": "462.5px"
   },
   "toc_section_display": true,
   "toc_window_display": true
  }
 },
 "nbformat": 4,
 "nbformat_minor": 2
}
